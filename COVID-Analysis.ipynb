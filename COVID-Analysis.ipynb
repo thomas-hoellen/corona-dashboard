{
 "cells": [
  {
   "cell_type": "markdown",
   "metadata": {},
   "source": [
    "# Overview over COVID-19 Data"
   ]
  },
  {
   "cell_type": "markdown",
   "metadata": {},
   "source": [
    "This notebook is used to get an overview over COVID-19 data sets from the RKI (Robert Koch Institut in Germany).\n",
    "It should help to get a first insight into the data."
   ]
  },
  {
   "cell_type": "code",
   "execution_count": 12,
   "metadata": {},
   "outputs": [],
   "source": [
    "import pandas as pd\n",
    "import matplotlib.pyplot as plt"
   ]
  },
  {
   "cell_type": "code",
   "execution_count": 59,
   "metadata": {},
   "outputs": [],
   "source": [
    "df = pd.read_csv(\"data/testnumbers_combined.csv\", delimiter=',')"
   ]
  },
  {
   "cell_type": "code",
   "execution_count": 60,
   "metadata": {},
   "outputs": [
    {
     "data": {
      "text/html": [
       "<div>\n",
       "<style scoped>\n",
       "    .dataframe tbody tr th:only-of-type {\n",
       "        vertical-align: middle;\n",
       "    }\n",
       "\n",
       "    .dataframe tbody tr th {\n",
       "        vertical-align: top;\n",
       "    }\n",
       "\n",
       "    .dataframe thead th {\n",
       "        text-align: right;\n",
       "    }\n",
       "</style>\n",
       "<table border=\"1\" class=\"dataframe\">\n",
       "  <thead>\n",
       "    <tr style=\"text-align: right;\">\n",
       "      <th></th>\n",
       "      <th>Kalenderwoche</th>\n",
       "      <th>Anzahl Testungen</th>\n",
       "      <th>Positiv getestet</th>\n",
       "      <th>Positivenanteil (%)</th>\n",
       "      <th>Anzahl übermittelnder Labore</th>\n",
       "    </tr>\n",
       "  </thead>\n",
       "  <tbody>\n",
       "    <tr>\n",
       "      <th>52</th>\n",
       "      <td>9/2021</td>\n",
       "      <td>1151639</td>\n",
       "      <td>71647</td>\n",
       "      <td>6.22</td>\n",
       "      <td>210.0</td>\n",
       "    </tr>\n",
       "    <tr>\n",
       "      <th>53</th>\n",
       "      <td>10/2021</td>\n",
       "      <td>1278442</td>\n",
       "      <td>85587</td>\n",
       "      <td>6.69</td>\n",
       "      <td>214.0</td>\n",
       "    </tr>\n",
       "    <tr>\n",
       "      <th>54</th>\n",
       "      <td>11/2021</td>\n",
       "      <td>1364375</td>\n",
       "      <td>107658</td>\n",
       "      <td>7.89</td>\n",
       "      <td>206.0</td>\n",
       "    </tr>\n",
       "    <tr>\n",
       "      <th>55</th>\n",
       "      <td>12/2021</td>\n",
       "      <td>1401576</td>\n",
       "      <td>130826</td>\n",
       "      <td>9.33</td>\n",
       "      <td>200.0</td>\n",
       "    </tr>\n",
       "    <tr>\n",
       "      <th>56</th>\n",
       "      <td>Summe</td>\n",
       "      <td>50399177</td>\n",
       "      <td>3087687</td>\n",
       "      <td>NaN</td>\n",
       "      <td>NaN</td>\n",
       "    </tr>\n",
       "  </tbody>\n",
       "</table>\n",
       "</div>"
      ],
      "text/plain": [
       "   Kalenderwoche  Anzahl Testungen  Positiv getestet  Positivenanteil (%)  \\\n",
       "52        9/2021           1151639             71647                 6.22   \n",
       "53       10/2021           1278442             85587                 6.69   \n",
       "54       11/2021           1364375            107658                 7.89   \n",
       "55       12/2021           1401576            130826                 9.33   \n",
       "56         Summe          50399177           3087687                  NaN   \n",
       "\n",
       "    Anzahl übermittelnder Labore  \n",
       "52                         210.0  \n",
       "53                         214.0  \n",
       "54                         206.0  \n",
       "55                         200.0  \n",
       "56                           NaN  "
      ]
     },
     "execution_count": 60,
     "metadata": {},
     "output_type": "execute_result"
    }
   ],
   "source": [
    "df.tail()"
   ]
  },
  {
   "cell_type": "code",
   "execution_count": 62,
   "metadata": {},
   "outputs": [],
   "source": [
    "df['Positiv getestet'] = pd.to_numeric(df['Positiv getestet'], errors='coerce')\n",
    "df['Anzahl Testungen'] = pd.to_numeric(df['Anzahl Testungen'], errors='coerce')"
   ]
  },
  {
   "cell_type": "code",
   "execution_count": 68,
   "metadata": {},
   "outputs": [],
   "source": [
    "y_number_positives = df['Positiv getestet'].iloc[:-1] # Leave last value out because it is the sum of all\n",
    "y_number_tests = df['Anzahl Testungen'].iloc[:-1] # Leave last value out because it is the sum of all"
   ]
  },
  {
   "cell_type": "code",
   "execution_count": 74,
   "metadata": {},
   "outputs": [
    {
     "data": {
      "text/plain": [
       "Text(0.5, 1.0, 'Number of Corona tests vs. positively tested people')"
      ]
     },
     "execution_count": 74,
     "metadata": {},
     "output_type": "execute_result"
    },
    {
     "data": {
      "image/png": "[encoded data removed]",
      "text/plain": [
       "<Figure size 432x288 with 1 Axes>"
      ]
     },
     "metadata": {
      "needs_background": "light"
     },
     "output_type": "display_data"
    }
   ],
   "source": [
    "plt.plot(y_number_positives)\n",
    "plt.plot(y_number_tests)\n",
    "plt.xlabel('Weeks')\n",
    "plt.ylabel('Number of tests/positives')\n",
    "plt.title('Number of Corona tests vs. positively tested people')"
   ]
  }
 ],
 "metadata": {
  "kernelspec": {
   "display_name": "Python 3",
   "language": "python",
   "name": "python3"
  },
  "language_info": {
   "codemirror_mode": {
    "name": "ipython",
    "version": 3
   },
   "file_extension": ".py",
   "mimetype": "text/x-python",
   "name": "python",
   "nbconvert_exporter": "python",
   "pygments_lexer": "ipython3",
   "version": "3.8.5"
  }
 },
 "nbformat": 4,
 "nbformat_minor": 4
}
