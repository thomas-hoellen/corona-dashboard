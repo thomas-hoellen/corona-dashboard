{
 "cells": [
  {
   "cell_type": "markdown",
   "metadata": {},
   "source": [
    "# Overview over COVID-19 Data"
   ]
  },
  {
   "cell_type": "markdown",
   "metadata": {},
   "source": [
    "This notebook is used to get an overview over COVID-19 data sets from the RKI (Robert Koch Institut in Germany).\n",
    "It should help to get a first insight into the data."
   ]
  },
  {
   "cell_type": "code",
   "execution_count": 2,
   "metadata": {},
   "outputs": [],
   "source": [
    "import pandas as pd\n",
    "import matplotlib.pyplot as plt\n",
    "import numpy as np"
   ]
  },
  {
   "cell_type": "code",
   "execution_count": 7,
   "metadata": {},
   "outputs": [],
   "source": [
    "df = pd.read_csv(\"data/testnumbers_combined.csv\", delimiter=',')"
   ]
  },
  {
   "cell_type": "code",
   "execution_count": 19,
   "metadata": {},
   "outputs": [
    {
     "data": {
      "text/html": [
       "<div>\n",
       "<style scoped>\n",
       "    .dataframe tbody tr th:only-of-type {\n",
       "        vertical-align: middle;\n",
       "    }\n",
       "\n",
       "    .dataframe tbody tr th {\n",
       "        vertical-align: top;\n",
       "    }\n",
       "\n",
       "    .dataframe thead th {\n",
       "        text-align: right;\n",
       "    }\n",
       "</style>\n",
       "<table border=\"1\" class=\"dataframe\">\n",
       "  <thead>\n",
       "    <tr style=\"text-align: right;\">\n",
       "      <th></th>\n",
       "      <th>Kalenderwoche</th>\n",
       "      <th>Anzahl Testungen</th>\n",
       "      <th>Positiv getestet</th>\n",
       "      <th>Positivenanteil (%)</th>\n",
       "      <th>Anzahl übermittelnder Labore</th>\n",
       "    </tr>\n",
       "  </thead>\n",
       "  <tbody>\n",
       "    <tr>\n",
       "      <th>52</th>\n",
       "      <td>9/2021</td>\n",
       "      <td>1151639</td>\n",
       "      <td>71647</td>\n",
       "      <td>6.22</td>\n",
       "      <td>210.0</td>\n",
       "    </tr>\n",
       "    <tr>\n",
       "      <th>53</th>\n",
       "      <td>10/2021</td>\n",
       "      <td>1278442</td>\n",
       "      <td>85587</td>\n",
       "      <td>6.69</td>\n",
       "      <td>214.0</td>\n",
       "    </tr>\n",
       "    <tr>\n",
       "      <th>54</th>\n",
       "      <td>11/2021</td>\n",
       "      <td>1364375</td>\n",
       "      <td>107658</td>\n",
       "      <td>7.89</td>\n",
       "      <td>206.0</td>\n",
       "    </tr>\n",
       "    <tr>\n",
       "      <th>55</th>\n",
       "      <td>12/2021</td>\n",
       "      <td>1401576</td>\n",
       "      <td>130826</td>\n",
       "      <td>9.33</td>\n",
       "      <td>200.0</td>\n",
       "    </tr>\n",
       "    <tr>\n",
       "      <th>56</th>\n",
       "      <td>Summe</td>\n",
       "      <td>50399177</td>\n",
       "      <td>3087687</td>\n",
       "      <td>NaN</td>\n",
       "      <td>NaN</td>\n",
       "    </tr>\n",
       "  </tbody>\n",
       "</table>\n",
       "</div>"
      ],
      "text/plain": [
       "   Kalenderwoche  Anzahl Testungen  Positiv getestet  Positivenanteil (%)  \\\n",
       "52        9/2021           1151639             71647                 6.22   \n",
       "53       10/2021           1278442             85587                 6.69   \n",
       "54       11/2021           1364375            107658                 7.89   \n",
       "55       12/2021           1401576            130826                 9.33   \n",
       "56         Summe          50399177           3087687                  NaN   \n",
       "\n",
       "    Anzahl übermittelnder Labore  \n",
       "52                         210.0  \n",
       "53                         214.0  \n",
       "54                         206.0  \n",
       "55                         200.0  \n",
       "56                           NaN  "
      ]
     },
     "execution_count": 19,
     "metadata": {},
     "output_type": "execute_result"
    }
   ],
   "source": [
    "df.tail()"
   ]
  },
  {
   "cell_type": "code",
   "execution_count": 62,
   "metadata": {},
   "outputs": [],
   "source": [
    "df['Positiv getestet'] = pd.to_numeric(df['Positiv getestet'], errors='coerce')\n",
    "df['Anzahl Testungen'] = pd.to_numeric(df['Anzahl Testungen'], errors='coerce')"
   ]
  },
  {
   "cell_type": "code",
   "execution_count": 68,
   "metadata": {},
   "outputs": [],
   "source": [
    "y_number_positives = df['Positiv getestet'].iloc[:-1] # Leave last value out because it is the sum of all\n",
    "y_number_tests = df['Anzahl Testungen'].iloc[:-1] # Leave last value out because it is the sum of all"
   ]
  },
  {
   "cell_type": "code",
   "execution_count": 85,
   "metadata": {},
   "outputs": [],
   "source": [
    "x = df['Kalenderwoche'].iloc[1:]"
   ]
  },
  {
   "cell_type": "code",
   "execution_count": 77,
   "metadata": {},
   "outputs": [],
   "source": [
    " x_val = list(range(0, y_number_positives.shape[0]))"
   ]
  },
  {
   "cell_type": "code",
   "execution_count": 103,
   "metadata": {},
   "outputs": [
    {
     "data": {
      "text/plain": [
       "Text(0.5, 1.0, 'Number of Corona tests vs. positively tested people')"
      ]
     },
     "execution_count": 103,
     "metadata": {},
     "output_type": "execute_result"
    },
    {
     "data": {
      "image/png": "[encoded data removed]",
      "text/plain": [
       "<Figure size 432x288 with 1 Axes>"
      ]
     },
     "metadata": {
      "needs_background": "light"
     },
     "output_type": "display_data"
    }
   ],
   "source": [
    "plt.plot(x, y_number_positives)\n",
    "plt.plot(x, y_number_tests)\n",
    "plt.xticks(np.arange(0, x.shape[0], step=10))\n",
    "plt.xlabel('Week of year')\n",
    "plt.ylabel('Number of tests/positives')\n",
    "plt.title('Number of Corona tests vs. positively tested people')"
   ]
  },
  {
   "cell_type": "markdown",
   "metadata": {},
   "source": [
    "# Compare numbers of Germany and Sweden\n",
    "We first compare the number of positively tested people in Germany and Sweden. Both countries are currently on very different Covid-19 strategies which makes the comparison interesting.\n",
    "All numbers are standardized by the population to have a meaningful comparison."
   ]
  },
  {
   "cell_type": "markdown",
   "metadata": {},
   "source": [
    "### Comparison of positives"
   ]
  },
  {
   "cell_type": "code",
   "execution_count": 110,
   "metadata": {},
   "outputs": [],
   "source": [
    "df2 = pd.read_csv(\"data/corona_numbers_world.csv\", delimiter=',')\n",
    "# Remove Letter from weeks to have same representation as in first data set\n",
    "df2['year_week'] = df2['year_week'].str.replace(r'W', '')"
   ]
  },
  {
   "cell_type": "code",
   "execution_count": 111,
   "metadata": {},
   "outputs": [
    {
     "data": {
      "text/html": [
       "<div>\n",
       "<style scoped>\n",
       "    .dataframe tbody tr th:only-of-type {\n",
       "        vertical-align: middle;\n",
       "    }\n",
       "\n",
       "    .dataframe tbody tr th {\n",
       "        vertical-align: top;\n",
       "    }\n",
       "\n",
       "    .dataframe thead th {\n",
       "        text-align: right;\n",
       "    }\n",
       "</style>\n",
       "<table border=\"1\" class=\"dataframe\">\n",
       "  <thead>\n",
       "    <tr style=\"text-align: right;\">\n",
       "      <th></th>\n",
       "      <th>country</th>\n",
       "      <th>country_code</th>\n",
       "      <th>year_week</th>\n",
       "      <th>level</th>\n",
       "      <th>region</th>\n",
       "      <th>region_name</th>\n",
       "      <th>new_cases</th>\n",
       "      <th>tests_done</th>\n",
       "      <th>population</th>\n",
       "      <th>testing_rate</th>\n",
       "      <th>positivity_rate</th>\n",
       "      <th>testing_data_source</th>\n",
       "    </tr>\n",
       "  </thead>\n",
       "  <tbody>\n",
       "    <tr>\n",
       "      <th>0</th>\n",
       "      <td>Austria</td>\n",
       "      <td>AT</td>\n",
       "      <td>2020-15</td>\n",
       "      <td>national</td>\n",
       "      <td>AT</td>\n",
       "      <td>Austria</td>\n",
       "      <td>1954</td>\n",
       "      <td>12339</td>\n",
       "      <td>8901064.0</td>\n",
       "      <td>138.623877</td>\n",
       "      <td>15.835967</td>\n",
       "      <td>Manual webscraping</td>\n",
       "    </tr>\n",
       "    <tr>\n",
       "      <th>1</th>\n",
       "      <td>Austria</td>\n",
       "      <td>AT</td>\n",
       "      <td>2020-16</td>\n",
       "      <td>national</td>\n",
       "      <td>AT</td>\n",
       "      <td>Austria</td>\n",
       "      <td>773</td>\n",
       "      <td>58488</td>\n",
       "      <td>8901064.0</td>\n",
       "      <td>657.089984</td>\n",
       "      <td>1.321639</td>\n",
       "      <td>Manual webscraping</td>\n",
       "    </tr>\n",
       "    <tr>\n",
       "      <th>2</th>\n",
       "      <td>Austria</td>\n",
       "      <td>AT</td>\n",
       "      <td>2020-17</td>\n",
       "      <td>national</td>\n",
       "      <td>AT</td>\n",
       "      <td>Austria</td>\n",
       "      <td>479</td>\n",
       "      <td>33443</td>\n",
       "      <td>8901064.0</td>\n",
       "      <td>375.719128</td>\n",
       "      <td>1.432288</td>\n",
       "      <td>Manual webscraping</td>\n",
       "    </tr>\n",
       "    <tr>\n",
       "      <th>3</th>\n",
       "      <td>Austria</td>\n",
       "      <td>AT</td>\n",
       "      <td>2020-18</td>\n",
       "      <td>national</td>\n",
       "      <td>AT</td>\n",
       "      <td>Austria</td>\n",
       "      <td>349</td>\n",
       "      <td>26598</td>\n",
       "      <td>8901064.0</td>\n",
       "      <td>298.818209</td>\n",
       "      <td>1.312129</td>\n",
       "      <td>Country website</td>\n",
       "    </tr>\n",
       "    <tr>\n",
       "      <th>4</th>\n",
       "      <td>Austria</td>\n",
       "      <td>AT</td>\n",
       "      <td>2020-19</td>\n",
       "      <td>national</td>\n",
       "      <td>AT</td>\n",
       "      <td>Austria</td>\n",
       "      <td>249</td>\n",
       "      <td>42153</td>\n",
       "      <td>8901064.0</td>\n",
       "      <td>473.572598</td>\n",
       "      <td>0.590705</td>\n",
       "      <td>Country website</td>\n",
       "    </tr>\n",
       "  </tbody>\n",
       "</table>\n",
       "</div>"
      ],
      "text/plain": [
       "   country country_code year_week     level region region_name  new_cases  \\\n",
       "0  Austria           AT   2020-15  national     AT     Austria       1954   \n",
       "1  Austria           AT   2020-16  national     AT     Austria        773   \n",
       "2  Austria           AT   2020-17  national     AT     Austria        479   \n",
       "3  Austria           AT   2020-18  national     AT     Austria        349   \n",
       "4  Austria           AT   2020-19  national     AT     Austria        249   \n",
       "\n",
       "   tests_done  population  testing_rate  positivity_rate testing_data_source  \n",
       "0       12339   8901064.0    138.623877        15.835967  Manual webscraping  \n",
       "1       58488   8901064.0    657.089984         1.321639  Manual webscraping  \n",
       "2       33443   8901064.0    375.719128         1.432288  Manual webscraping  \n",
       "3       26598   8901064.0    298.818209         1.312129     Country website  \n",
       "4       42153   8901064.0    473.572598         0.590705     Country website  "
      ]
     },
     "execution_count": 111,
     "metadata": {},
     "output_type": "execute_result"
    }
   ],
   "source": [
    "df2.head()"
   ]
  },
  {
   "cell_type": "code",
   "execution_count": 114,
   "metadata": {},
   "outputs": [],
   "source": [
    "x_germany = df2[df2.country == \"Germany\"].year_week\n",
    "y_germany = df2[df2.country == \"Germany\"].new_cases\n",
    "x_sweden = df2[df2.region_name == \"Sweden\"].year_week\n",
    "normalizer = df2[df2.region_name == \"Germany\"].population.iloc[0]/df2[df2.region_name == \"Sweden\"].population.iloc[0]\n",
    "y_sweden = df2[df2.region_name == \"Sweden\"].new_cases*normalizer"
   ]
  },
  {
   "cell_type": "code",
   "execution_count": 129,
   "metadata": {},
   "outputs": [
    {
     "data": {
      "image/png": "[encoded data removed]",
      "text/plain": [
       "<Figure size 432x288 with 1 Axes>"
      ]
     },
     "metadata": {
      "needs_background": "light"
     },
     "output_type": "display_data"
    }
   ],
   "source": [
    "plt.plot(x_germany, y_germany, 'r', label=\"Germany\")\n",
    "plt.plot(x_sweden, y_sweden, 'k', label=\"Sweden\")\n",
    "plt.xticks(np.arange(0, x_germany.shape[0], step=15))\n",
    "plt.xlabel('Week of year', fontsize=12)\n",
    "plt.ylabel('Number of Positives',  fontsize=12)\n",
    "plt.title('Number positively tested people: Germany vs. Sweden', fontsize=15)\n",
    "plt.legend(loc=\"upper left\", fontsize=12)\n",
    "plt.show()"
   ]
  },
  {
   "cell_type": "markdown",
   "metadata": {},
   "source": [
    "### Comparison of deaths"
   ]
  },
  {
   "cell_type": "code",
   "execution_count": 131,
   "metadata": {},
   "outputs": [],
   "source": [
    "df3 = pd.read_csv(\"data/death_numbers.csv\", delimiter=',')"
   ]
  },
  {
   "cell_type": "code",
   "execution_count": 132,
   "metadata": {},
   "outputs": [],
   "source": [
    "df_deaths_germany = df3[df3.country == \"Germany\"]\n",
    "df_deaths_sweden = df3[df3.country == \"Sweden\"]"
   ]
  },
  {
   "cell_type": "code",
   "execution_count": 141,
   "metadata": {},
   "outputs": [],
   "source": [
    "y_germany_deaths = df_deaths_germany[df_deaths_germany.indicator==\"deaths\"].weekly_count\n",
    "x_germany_deaths = df_deaths_germany[df_deaths_germany.indicator==\"deaths\"].year_week\n",
    "\n",
    "y_sweden_deaths = df_deaths_sweden[df_deaths_sweden.indicator==\"deaths\"].weekly_count*normalizer\n",
    "x_sweden_deaths = df_deaths_sweden[df_deaths_sweden.indicator==\"deaths\"].year_week"
   ]
  },
  {
   "cell_type": "code",
   "execution_count": 148,
   "metadata": {},
   "outputs": [
    {
     "data": {
      "image/png": "[encoded data removed]",
      "text/plain": [
       "<Figure size 432x288 with 1 Axes>"
      ]
     },
     "metadata": {
      "needs_background": "light"
     },
     "output_type": "display_data"
    }
   ],
   "source": [
    "plt.plot(x_sweden_deaths, y_sweden_deaths, 'r', label=\"Sweden\")\n",
    "plt.plot(x_germany_deaths, y_germany_deaths, 'k', label=\"Germany\")\n",
    "plt.xticks(np.arange(0, x_germany_deaths.shape[0], step=15))\n",
    "plt.xlabel('Week of year', fontsize=12)\n",
    "plt.ylabel('Number of Deaths',  fontsize=12)\n",
    "plt.title('Number of Covid-19 related deaths: Germany vs. Sweden', fontsize=15)\n",
    "plt.legend(loc=\"upper left\", fontsize=12)\n",
    "plt.show()"
   ]
  },
  {
   "cell_type": "code",
   "execution_count": 146,
   "metadata": {},
   "outputs": [
    {
     "data": {
      "text/plain": [
       "9129    2020-01\n",
       "9130    2020-02\n",
       "9131    2020-03\n",
       "9132    2020-04\n",
       "9133    2020-05\n",
       "         ...   \n",
       "9189    2021-08\n",
       "9190    2021-09\n",
       "9191    2021-10\n",
       "9192    2021-11\n",
       "9193    2021-12\n",
       "Name: year_week, Length: 65, dtype: object"
      ]
     },
     "execution_count": 146,
     "metadata": {},
     "output_type": "execute_result"
    }
   ],
   "source": [
    "x_germany_deaths"
   ]
  },
  {
   "cell_type": "code",
   "execution_count": 147,
   "metadata": {},
   "outputs": [
    {
     "data": {
      "text/plain": [
       "21735    2020-01\n",
       "21736    2020-02\n",
       "21737    2020-03\n",
       "21738    2020-04\n",
       "21739    2020-05\n",
       "          ...   \n",
       "21795    2021-08\n",
       "21796    2021-09\n",
       "21797    2021-10\n",
       "21798    2021-11\n",
       "21799    2021-12\n",
       "Name: year_week, Length: 65, dtype: object"
      ]
     },
     "execution_count": 147,
     "metadata": {},
     "output_type": "execute_result"
    }
   ],
   "source": [
    "x_sweden_deaths"
   ]
  }
 ],
 "metadata": {
  "kernelspec": {
   "display_name": "Python 3",
   "language": "python",
   "name": "python3"
  },
  "language_info": {
   "codemirror_mode": {
    "name": "ipython",
    "version": 3
   },
   "file_extension": ".py",
   "mimetype": "text/x-python",
   "name": "python",
   "nbconvert_exporter": "python",
   "pygments_lexer": "ipython3",
   "version": "3.8.5"
  }
 },
 "nbformat": 4,
 "nbformat_minor": 4
}
